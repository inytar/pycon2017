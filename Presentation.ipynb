{
 "cells": [
  {
   "cell_type": "markdown",
   "metadata": {},
   "source": [
    "### Create Panda dataframes of the GTFS data."
   ]
  },
  {
   "cell_type": "code",
   "execution_count": null,
   "metadata": {},
   "outputs": [],
   "source": [
    "import zipfile\n",
    "\n",
    "import pandas as pd\n",
    "\n",
    "zip_obj = zipfile.ZipFile('google_transit.zip')\n",
    "\n",
    "dtype = {c: str for c in {'agency_id', 'service_id', 'fare_id', 'route_id',\n",
    "                          'trip_id', 'shape_id', 'stop_id', 'parent_station',\n",
    "                          'from_stop_id', 'to_stop_id'}}\n",
    "\n",
    "gtfs = {}\n",
    "for filename in zip_obj.namelist():\n",
    "    filelabel = filename.replace('.txt', '')\n",
    "    gtfs[filelabel] = pd.read_csv(zip_obj.open(filename),\n",
    "                                  encoding='utf-8-sig', dtype=dtype)\n",
    "    \n",
    "for n, df in gtfs.items():\n",
    "    print(n)\n",
    "    print(df.info())\n",
    "    print('----')"
   ]
  },
  {
   "cell_type": "markdown",
   "metadata": {},
   "source": [
    "### Transform the stops longitude and latitude in python objects we can use."
   ]
  },
  {
   "cell_type": "code",
   "execution_count": null,
   "metadata": {},
   "outputs": [],
   "source": [
    "import geopandas as gpd\n",
    "from shapely.geometry import Point\n",
    "\n",
    "gtfs['stops'] = gpd.GeoDataFrame(\n",
    "    gtfs['stops'].assign(\n",
    "        stop_name=gtfs['stops']['stop_name']\\\n",
    "        .map(lambda x: x[9:].strip() if x.lower().startswith('karlsruhe') else x),\n",
    "        geometry=gtfs['stops'].apply(\n",
    "            lambda row: Point(row['stop_lon'], row['stop_lat']), axis=1)\n",
    "    ).drop(['stop_lat', 'stop_lon'], axis=1)\n",
    ")\n",
    "gtfs['stops'].head()"
   ]
  },
  {
   "cell_type": "markdown",
   "metadata": {},
   "source": [
    "### Transform the departure and arrival times in values we can use\n",
    "\n",
    "GTFS knows about times over 24:00. To simplify our problem let's just use integers for the times."
   ]
  },
  {
   "cell_type": "code",
   "execution_count": null,
   "metadata": {},
   "outputs": [],
   "source": [
    "def time_to_int(time):\n",
    "    return int(time.replace(':', '')[:4])\n",
    "\n",
    "gtfs['stop_times'] = gtfs['stop_times'].assign(\n",
    "    arrival_time_int=gtfs['stop_times']['arrival_time'].map(time_to_int),\n",
    "    departure_time_int=gtfs['stop_times']['departure_time'].map(time_to_int)\n",
    ")\n",
    "\n",
    "gtfs['stop_times'].head()"
   ]
  },
  {
   "cell_type": "markdown",
   "metadata": {},
   "source": [
    "### Create the projections"
   ]
  },
  {
   "cell_type": "code",
   "execution_count": null,
   "metadata": {},
   "outputs": [],
   "source": [
    "import pyproj\n",
    "\n",
    "base_proj = pyproj.Proj(init='EPSG:4326')  # WGS84\n",
    "calc_proj = pyproj.Proj(init='EPSG:3035')  # ETRS89"
   ]
  },
  {
   "cell_type": "markdown",
   "metadata": {},
   "source": [
    "### Reproject stops to ETRS89"
   ]
  },
  {
   "cell_type": "code",
   "execution_count": null,
   "metadata": {},
   "outputs": [],
   "source": [
    "gtfs['stops'].crs = base_proj.srs\n",
    "gtfs['stops'] = gtfs['stops'].to_crs(calc_proj.srs)"
   ]
  },
  {
   "cell_type": "code",
   "execution_count": null,
   "metadata": {},
   "outputs": [],
   "source": [
    "from functools import partial\n",
    "\n",
    "from shapely.ops import transform\n",
    "\n",
    "def transform_srs(geometry, *, from_proj=base_proj, to_proj=calc_proj):\n",
    "    if from_proj == to_proj:\n",
    "        return geometry\n",
    "    project = partial(pyproj.transform, from_proj, to_proj)\n",
    "    geometry = transform(project, geometry)\n",
    "    return geometry"
   ]
  },
  {
   "cell_type": "markdown",
   "metadata": {},
   "source": [
    "### Let's center the map"
   ]
  },
  {
   "cell_type": "code",
   "execution_count": null,
   "metadata": {},
   "outputs": [],
   "source": [
    "here_wgs84 = Point(8.383590, 49.001763)\n",
    "\n",
    "M.set_center(here_wgs84.x, here_wgs84.y, 13)"
   ]
  },
  {
   "cell_type": "markdown",
   "metadata": {},
   "source": [
    "### From shapely geometries to points on the map."
   ]
  },
  {
   "cell_type": "code",
   "execution_count": null,
   "metadata": {},
   "outputs": [],
   "source": [
    "def geometry_to_map(geometry, *, from_proj=calc_proj, **kwargs):\n",
    "    geometry = transform_srs(geometry, to_proj=base_proj,\n",
    "                             from_proj=from_proj)\n",
    "    geo_interface = geometry.__geo_interface__\n",
    "    type_ = geo_interface['type'].lower()\n",
    "    coords = geo_interface['coordinates']\n",
    "    if type_ == 'polygon':\n",
    "        if len(coords) > 1:\n",
    "            kwargs.setdefault('hole', coords[2:])\n",
    "        coords = coords[0]\n",
    "    elif type_ != 'point':\n",
    "        raise ValueError('Can only show Points and Polygons on map.')\n",
    "    M.add_annotation(type_, coords, kwargs)"
   ]
  },
  {
   "cell_type": "markdown",
   "metadata": {},
   "source": [
    "### Stops on the map"
   ]
  },
  {
   "cell_type": "code",
   "execution_count": null,
   "metadata": {},
   "outputs": [],
   "source": [
    "stops = gtfs['stops']\n",
    "\n",
    "stop_types = {'all', 'parents', 'children'}\n",
    "\n",
    "def stops_to_map(stops, *, types='parents'):\n",
    "    if types not in stop_types:\n",
    "        raise ValueError(\n",
    "            '\"{}\" must be one of \"{}\"'.format(types,\n",
    "                                              ', '.join(stop_types))\n",
    "        )\n",
    "    if types == 'parents':\n",
    "        stops = stops.dropna(subset=['location_type'])\n",
    "    elif types == 'children':\n",
    "        stops = stops.dropna(subset=['parent_station'])\n",
    "    for _, stop in stops.iterrows():\n",
    "        geometry_to_map(stop['geometry'], name=stop['stop_name'])\n",
    "        \n",
    "stops_to_map(stops.tail(300))"
   ]
  },
  {
   "cell_type": "markdown",
   "metadata": {},
   "source": [
    "### Us on the map"
   ]
  },
  {
   "cell_type": "code",
   "execution_count": null,
   "metadata": {},
   "outputs": [],
   "source": [
    "M.layers.annotation.clear_annotations()\n",
    "\n",
    "M.set_center(here_wgs84.x, here_wgs84.y, 16)\n",
    "\n",
    "here = transform_srs(here_wgs84)\n",
    "\n",
    "geometry_to_map(here, name='Here')"
   ]
  },
  {
   "cell_type": "markdown",
   "metadata": {},
   "source": [
    "### Which stations are walkable (max 5 minutes walking)"
   ]
  },
  {
   "cell_type": "code",
   "execution_count": null,
   "metadata": {},
   "outputs": [],
   "source": [
    "walking_speed = 1.39  # m/s = 5 km/h\n",
    "walking_time = 5 * 60  # 5 minutes\n",
    "walking_distance = here.buffer(walking_speed * walking_time)\n",
    "geometry_to_map(walking_distance, from_proj=calc_proj, name='wlk_dist')\n",
    "\n",
    "walkable_stops = stops[stops.intersects(walking_distance)]\n",
    "stops_to_map(walkable_stops)"
   ]
  },
  {
   "cell_type": "markdown",
   "metadata": {},
   "source": [
    "### Stop times\n",
    "\n",
    "We assume it will always take us 5 minutes to get to the station and we will wait a max of 5 minutes"
   ]
  },
  {
   "cell_type": "code",
   "execution_count": null,
   "metadata": {},
   "outputs": [],
   "source": [
    "stop_times = gtfs['stop_times'].merge(walkable_stops, on='stop_id')\n",
    "our_stop_times = stop_times[\n",
    "    (stop_times['departure_time_int'] <= 1810) &\n",
    "    (stop_times['departure_time_int'] >= 1805)\n",
    "].rename(columns={'stop_sequence': 'current_sequence'})\n",
    "print(len(our_stop_times.index))\n",
    "our_stop_times.head()"
   ]
  },
  {
   "cell_type": "markdown",
   "metadata": {},
   "source": [
    "### Only trips on Thursday"
   ]
  },
  {
   "cell_type": "code",
   "execution_count": null,
   "metadata": {},
   "outputs": [],
   "source": [
    "all_trips = our_stop_times.merge(gtfs['trips'], on='trip_id')\n",
    "calendar = gtfs['calendar']\n",
    "thursday_service = calendar[calendar['thursday'] == 1]\n",
    "trips = all_trips.merge(thursday_service, on='service_id')\n",
    "print(len(trips.index))\n",
    "trips.head()"
   ]
  },
  {
   "cell_type": "markdown",
   "metadata": {},
   "source": [
    "### Which stops connect to the found stops\n",
    "\n",
    "We want to travel max 30 minutes."
   ]
  },
  {
   "cell_type": "code",
   "execution_count": null,
   "metadata": {},
   "outputs": [],
   "source": [
    "other_stops = gtfs['stop_times'].merge(trips[['current_sequence', 'trip_id']], on='trip_id')\n",
    "other_stops = other_stops[\n",
    "    (other_stops['stop_sequence'] > other_stops['current_sequence']) &\n",
    "    (other_stops['arrival_time_int'] <= 1830)\n",
    "]\n",
    "\n",
    "other_stops = stops.merge(\n",
    "    other_stops[['stop_id', 'arrival_time_int', 'departure_time_int']],\n",
    "    on='stop_id'\n",
    ").sort_values(\n",
    "    ['arrival_time_int']\n",
    ").drop_duplicates(subset=['stop_id'])\n",
    "other_stops = other_stops[~other_stops['stop_id'].isin(\n",
    "    walkable_stops['stop_id']\n",
    ")]\n",
    "\n",
    "def get_parents(stops):\n",
    "    return gtfs['stops'].dropna(\n",
    "        subset=['location_type']\n",
    "    ).merge(\n",
    "        stops.drop_duplicates(subset='parent_station')\n",
    "        .rename(columns={'parent_station': 'stop_id'}),\n",
    "        on='stop_id'\n",
    "    )\n",
    "\n",
    "parent_stops = get_parents(other_stops[['parent_station', 'arrival_time_int']])\n",
    "M.set_center(here_wgs84.x, here_wgs84.y, 13)\n",
    "stops_to_map(parent_stops)"
   ]
  },
  {
   "cell_type": "markdown",
   "metadata": {},
   "source": [
    "### To where can we walk\n",
    "\n",
    "Assuming we will walk max 5 minutes or till the orignal 30 minutes have passed."
   ]
  },
  {
   "cell_type": "code",
   "execution_count": null,
   "metadata": {},
   "outputs": [],
   "source": [
    "for _, stop in parent_stops.iterrows():\n",
    "    wk_time = min(walking_time, (1830 - stop['arrival_time_int']) * 60)\n",
    "    if not wk_time:\n",
    "        continue\n",
    "    walking_distance = stop['geometry'].buffer(walking_speed * wk_time)\n",
    "    geometry_to_map(walking_distance, from_proj=calc_proj, name=stop['stop_name'])"
   ]
  }
 ],
 "metadata": {
  "kernelspec": {
   "display_name": "Geonotebook (Python 3)",
   "language": "python",
   "name": "geonotebook3"
  },
  "language_info": {
   "codemirror_mode": {
    "name": "ipython",
    "version": 3
   },
   "file_extension": ".py",
   "mimetype": "text/x-python",
   "name": "python",
   "nbconvert_exporter": "python",
   "pygments_lexer": "ipython3",
   "version": "3.6.2"
  }
 },
 "nbformat": 4,
 "nbformat_minor": 2
}
