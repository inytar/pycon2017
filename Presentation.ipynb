{
 "cells": [
  {
   "cell_type": "markdown",
   "metadata": {},
   "source": [
    "# Data Driven approach using GeoPandas and GTFS\n",
    "## Pieter Mulder\n",
    "\n",
    "## What is GeoPandas?\n",
    "\n",
    "> GeoPandas is an open source project to make working with geospatial data in python easier. GeoPandas extends the datatypes used by pandas to allow spatial operations on geometric types. \n",
    "\n",
    "http://geopandas.org/\n",
    "\n",
    "## What is GTFS?\n",
    "\n",
    "General Transit Feed Specification\n",
    "\n",
    "> Defines a common format for public transportation schedules and associated geographic information.\n",
    "\n",
    "https://developers.google.com/transit/gtfs/\n",
    "\n",
    "![GTFS Diagram](gtfs-feed-diagram.png \"GTFS Diagram\")\n",
    "\n",
    "### Create Panda dataframes of the GTFS data."
   ]
  },
  {
   "cell_type": "code",
   "execution_count": 1,
   "metadata": {},
   "outputs": [],
   "source": [
    "import zipfile\n",
    "\n",
    "import pandas as pd\n",
    "import geopandas as gpd\n",
    "\n",
    "zip_obj = zipfile.ZipFile('google_transit.zip')\n",
    "\n",
    "dtype = {c: str for c in {'agency_id', 'service_id', 'fare_id', 'route_id',\n",
    "                          'trip_id', 'shape_id', 'stop_id', 'parent_station',\n",
    "                          'from_stop_id', 'to_stop_id'}}\n",
    "\n",
    "gtfs = {}\n",
    "for filename in zip_obj.namelist():\n",
    "    filelabel = filename.replace('.txt', '')\n",
    "    gtfs[filelabel] = pd.read_csv(zip_obj.open(filename),\n",
    "                                  encoding='utf-8-sig', dtype=dtype)\n",
    "    "
   ]
  },
  {
   "cell_type": "markdown",
   "metadata": {},
   "source": [
    "### Transform the stops longitude and latitude in python objects we can use."
   ]
  },
  {
   "cell_type": "code",
   "execution_count": 2,
   "metadata": {},
   "outputs": [
    {
     "data": {
      "text/html": [
       "<div>\n",
       "<style>\n",
       "    .dataframe thead tr:only-child th {\n",
       "        text-align: right;\n",
       "    }\n",
       "\n",
       "    .dataframe thead th {\n",
       "        text-align: left;\n",
       "    }\n",
       "\n",
       "    .dataframe tbody tr th {\n",
       "        vertical-align: top;\n",
       "    }\n",
       "</style>\n",
       "<table border=\"1\" class=\"dataframe\">\n",
       "  <thead>\n",
       "    <tr style=\"text-align: right;\">\n",
       "      <th></th>\n",
       "      <th>stop_id</th>\n",
       "      <th>stop_name</th>\n",
       "      <th>zone_id</th>\n",
       "      <th>stop_url</th>\n",
       "      <th>location_type</th>\n",
       "      <th>parent_station</th>\n",
       "      <th>geometry</th>\n",
       "    </tr>\n",
       "  </thead>\n",
       "  <tbody>\n",
       "    <tr>\n",
       "      <th>0</th>\n",
       "      <td>de:07334:1714:1:1</td>\n",
       "      <td>Wörth Alte Bahnmeisterei</td>\n",
       "      <td>NaN</td>\n",
       "      <td>NaN</td>\n",
       "      <td>NaN</td>\n",
       "      <td>Parent1714</td>\n",
       "      <td>POINT (8.26622538039577 49.048742345982)</td>\n",
       "    </tr>\n",
       "    <tr>\n",
       "      <th>1</th>\n",
       "      <td>de:07334:1714:1:2</td>\n",
       "      <td>Wörth Alte Bahnmeisterei</td>\n",
       "      <td>NaN</td>\n",
       "      <td>NaN</td>\n",
       "      <td>NaN</td>\n",
       "      <td>Parent1714</td>\n",
       "      <td>POINT (8.266737420107789 49.0484420719247)</td>\n",
       "    </tr>\n",
       "    <tr>\n",
       "      <th>2</th>\n",
       "      <td>de:07334:1721:1:1</td>\n",
       "      <td>Maximiliansau Eisenbahnstraße</td>\n",
       "      <td>NaN</td>\n",
       "      <td>NaN</td>\n",
       "      <td>NaN</td>\n",
       "      <td>Parent1721</td>\n",
       "      <td>POINT (8.29789997731824 49.0373071007148)</td>\n",
       "    </tr>\n",
       "    <tr>\n",
       "      <th>3</th>\n",
       "      <td>de:07334:1721:2:2</td>\n",
       "      <td>Maximiliansau Eisenbahnstraße</td>\n",
       "      <td>NaN</td>\n",
       "      <td>NaN</td>\n",
       "      <td>NaN</td>\n",
       "      <td>Parent1721</td>\n",
       "      <td>POINT (8.29896897250649 49.0371363175998)</td>\n",
       "    </tr>\n",
       "    <tr>\n",
       "      <th>4</th>\n",
       "      <td>de:07334:1723:1:1</td>\n",
       "      <td>Maximiliansau West</td>\n",
       "      <td>NaN</td>\n",
       "      <td>NaN</td>\n",
       "      <td>NaN</td>\n",
       "      <td>Parent1723</td>\n",
       "      <td>POINT (8.292024995359281 49.038861789003)</td>\n",
       "    </tr>\n",
       "  </tbody>\n",
       "</table>\n",
       "</div>"
      ],
      "text/plain": [
       "             stop_id                      stop_name  zone_id  stop_url  \\\n",
       "0  de:07334:1714:1:1       Wörth Alte Bahnmeisterei      NaN       NaN   \n",
       "1  de:07334:1714:1:2       Wörth Alte Bahnmeisterei      NaN       NaN   \n",
       "2  de:07334:1721:1:1  Maximiliansau Eisenbahnstraße      NaN       NaN   \n",
       "3  de:07334:1721:2:2  Maximiliansau Eisenbahnstraße      NaN       NaN   \n",
       "4  de:07334:1723:1:1             Maximiliansau West      NaN       NaN   \n",
       "\n",
       "   location_type parent_station                                    geometry  \n",
       "0            NaN     Parent1714    POINT (8.26622538039577 49.048742345982)  \n",
       "1            NaN     Parent1714  POINT (8.266737420107789 49.0484420719247)  \n",
       "2            NaN     Parent1721   POINT (8.29789997731824 49.0373071007148)  \n",
       "3            NaN     Parent1721   POINT (8.29896897250649 49.0371363175998)  \n",
       "4            NaN     Parent1723   POINT (8.292024995359281 49.038861789003)  "
      ]
     },
     "execution_count": 2,
     "metadata": {},
     "output_type": "execute_result"
    }
   ],
   "source": [
    "from shapely.geometry import Point\n",
    "\n",
    "gtfs['stops'] = gpd.GeoDataFrame(\n",
    "    gtfs['stops'].assign(\n",
    "        stop_name=gtfs['stops']['stop_name']\\\n",
    "        .map(lambda x: x[9:].strip() if x.lower().startswith('karlsruhe') else x),\n",
    "        geometry=gtfs['stops'].apply(\n",
    "            lambda row: Point(row['stop_lon'], row['stop_lat']), axis=1)\n",
    "    ).drop(['stop_lat', 'stop_lon'], axis=1)\n",
    ")\n",
    "gtfs['stops'].head()"
   ]
  },
  {
   "cell_type": "code",
   "execution_count": 3,
   "metadata": {},
   "outputs": [
    {
     "data": {
      "text/plain": [
       "9"
      ]
     },
     "execution_count": 3,
     "metadata": {},
     "output_type": "execute_result"
    }
   ],
   "source": [
    "len('karlsruhe')"
   ]
  },
  {
   "cell_type": "markdown",
   "metadata": {},
   "source": [
    "### Transform the departure and arrival times in values we can use\n",
    "\n",
    "GTFS knows about times over 24:00. To simplify our problem let's just use integers for the times."
   ]
  },
  {
   "cell_type": "code",
   "execution_count": 4,
   "metadata": {},
   "outputs": [],
   "source": [
    "def time_to_int(time):\n",
    "    return int(time.replace(':', '')[:4])\n",
    "\n",
    "gtfs['stop_times'] = gtfs['stop_times'].assign(\n",
    "    arrival_time_int=gtfs['stop_times']['arrival_time'].map(time_to_int),\n",
    "    departure_time_int=gtfs['stop_times']['departure_time'].map(time_to_int)\n",
    ")"
   ]
  },
  {
   "cell_type": "markdown",
   "metadata": {},
   "source": [
    "## Projections\n",
    "\n",
    "Displaying the (almost) round world on a flat service is hard.\n",
    "\n",
    "![xkcd](https://imgs.xkcd.com/comics/map_projections.png) \n",
    "xkcd.com\n",
    "\n",
    "Most maps on the internet (and the GTFS) use WGS84.\n",
    "\n",
    "If we want to measure distances in meters in Europe we can use ETRS89.\n",
    "\n",
    "### Create the projections"
   ]
  },
  {
   "cell_type": "code",
   "execution_count": 5,
   "metadata": {},
   "outputs": [],
   "source": [
    "import pyproj\n",
    "\n",
    "base_proj = pyproj.Proj(init='EPSG:4326')  # WGS84\n",
    "calc_proj = pyproj.Proj(init='EPSG:3035')  # ETRS89"
   ]
  },
  {
   "cell_type": "markdown",
   "metadata": {},
   "source": [
    "### Reproject stops to ETRS89"
   ]
  },
  {
   "cell_type": "code",
   "execution_count": 6,
   "metadata": {},
   "outputs": [],
   "source": [
    "gtfs['stops'].crs = base_proj.srs\n",
    "gtfs['stops'] = gtfs['stops'].to_crs(calc_proj.srs)"
   ]
  },
  {
   "cell_type": "code",
   "execution_count": 7,
   "metadata": {},
   "outputs": [],
   "source": [
    "from functools import partial\n",
    "\n",
    "from shapely.ops import transform\n",
    "\n",
    "def transform_srs(geometry, *, from_proj=base_proj, to_proj=calc_proj):\n",
    "    if from_proj == to_proj:\n",
    "        return geometry\n",
    "    project = partial(pyproj.transform, from_proj, to_proj)\n",
    "    geometry = transform(project, geometry)\n",
    "    return geometry"
   ]
  },
  {
   "cell_type": "markdown",
   "metadata": {},
   "source": [
    "## Geonotebook\n",
    "\n",
    "> GeoNotebook is an extension to the Jupyter Notebook that provides interactive visualization and python-based analysis of geospatial data.\n",
    "\n",
    "http://geonotebook.readthedocs.io/en/latest/\n"
   ]
  },
  {
   "cell_type": "code",
   "execution_count": 8,
   "metadata": {},
   "outputs": [
    {
     "data": {
      "text/plain": [
       "<promise.promise.Promise at 0x7fade95eff28>"
      ]
     },
     "execution_count": 8,
     "metadata": {},
     "output_type": "execute_result"
    }
   ],
   "source": [
    "here = Point(8.383590, 49.001763)\n",
    "\n",
    "M.set_center(here.x, here.y, 13)"
   ]
  },
  {
   "cell_type": "markdown",
   "metadata": {},
   "source": [
    "### From shapely geometries to points on the map."
   ]
  },
  {
   "cell_type": "code",
   "execution_count": 9,
   "metadata": {},
   "outputs": [],
   "source": [
    "def geometry_to_map(geometry, *, from_proj=calc_proj, **kwargs):\n",
    "    geometry = transform_srs(geometry, to_proj=base_proj,\n",
    "                             from_proj=from_proj)\n",
    "    geo_interface = geometry.__geo_interface__\n",
    "    type_ = geo_interface['type'].lower()\n",
    "    coords = geo_interface['coordinates']\n",
    "    if type_ == 'polygon':\n",
    "        if len(coords) > 1:\n",
    "            kwargs.setdefault('hole', coords[2:])\n",
    "        coords = coords[0]\n",
    "    elif type_ != 'point':\n",
    "        raise ValueError('Can only show Points and Polygons on map.')\n",
    "    M.add_annotation(type_, coords, kwargs)"
   ]
  },
  {
   "cell_type": "code",
   "execution_count": 10,
   "metadata": {},
   "outputs": [],
   "source": [
    "stops = gtfs['stops']\n",
    "\n",
    "stop_types = {'all', 'parents', 'children'}\n",
    "\n",
    "def stops_to_map(stops, *, types='parents'):\n",
    "    if types not in stop_types:\n",
    "        raise ValueError(\n",
    "            '\"{}\" must be one of \"{}\"'.format(types,\n",
    "                                              ', '.join(stop_types))\n",
    "        )\n",
    "    if types == 'parents':\n",
    "        stops = stops.dropna(subset=['location_type'])\n",
    "    elif types == 'children':\n",
    "        stops = stops.dropna(subset=['parent_station'])\n",
    "    for _, stop in stops.iterrows():\n",
    "        geometry_to_map(stop['geometry'], name=stop['stop_name'])\n",
    "        \n",
    "stops_to_map(stops.tail(300))"
   ]
  },
  {
   "cell_type": "markdown",
   "metadata": {},
   "source": [
    "## Let's see where we can get from here."
   ]
  },
  {
   "cell_type": "code",
   "execution_count": 18,
   "metadata": {},
   "outputs": [],
   "source": [
    "M.layers.annotation.clear_annotations()\n",
    "\n",
    "M.set_center(here.x, here.y, 13)\n",
    "\n",
    "geometry_to_map(here, name='ZKM', from_proj=base_proj)"
   ]
  },
  {
   "cell_type": "code",
   "execution_count": 12,
   "metadata": {},
   "outputs": [],
   "source": [
    "here_e = transform_srs(here)"
   ]
  },
  {
   "cell_type": "code",
   "execution_count": 13,
   "metadata": {},
   "outputs": [],
   "source": [
    "walking_speed = 1.39  # m/s = 5 km/h\n",
    "walking_time = 5 * 60  # 5 minutes\n",
    "walking_distance = here_e.buffer(walking_speed * walking_time)\n",
    "geometry_to_map(walking_distance, from_proj=calc_proj, name='wlk_dist')\n",
    "\n",
    "walkable_stops = stops[stops.intersects(walking_distance)]\n",
    "stops_to_map(walkable_stops)"
   ]
  },
  {
   "cell_type": "code",
   "execution_count": 14,
   "metadata": {},
   "outputs": [],
   "source": [
    "# TODO Only for Thursday"
   ]
  },
  {
   "cell_type": "code",
   "execution_count": 15,
   "metadata": {},
   "outputs": [],
   "source": [
    "stop_times = gtfs['stop_times'].merge(walkable_stops, on='stop_id')\n",
    "trips = stop_times[\n",
    "    (stop_times['departure_time_int'] <= 1810) &\n",
    "    (stop_times['departure_time_int'] >= 1805)\n",
    "][['trip_id', 'stop_sequence','departure_time']].rename(\n",
    "    columns={'stop_sequence': 'current_sequence'})"
   ]
  },
  {
   "cell_type": "code",
   "execution_count": 20,
   "metadata": {},
   "outputs": [],
   "source": [
    "other_stops = gtfs['stop_times'].merge(trips, on='trip_id')\n",
    "other_stops = other_stops[\n",
    "    (other_stops['stop_sequence'] > other_stops['current_sequence']) &\n",
    "    (other_stops['arrival_time_int'] <= 1830)\n",
    "]\n",
    "\n",
    "other_stops = stops.merge(\n",
    "    other_stops[['stop_id', 'arrival_time_int', 'departure_time_int']],\n",
    "    on='stop_id'\n",
    ").sort_values(\n",
    "    ['arrival_time_int']\n",
    ").drop_duplicates(subset=['stop_id'])\n",
    "other_stops = other_stops[~other_stops['stop_id'].isin(\n",
    "    walkable_stops['stop_id']\n",
    ")]\n",
    "\n",
    "\n",
    "\n",
    "def get_parents(stops):\n",
    "    return gtfs['stops'].dropna(\n",
    "        subset=['location_type']\n",
    "    ).merge(\n",
    "        stops.drop_duplicates(subset='parent_station')\n",
    "        .rename(columns={'parent_station': 'stop_id'}),\n",
    "        on='stop_id'\n",
    "    )\n",
    "\n",
    "\n",
    "parent_stops = get_parents(other_stops[['parent_station', 'arrival_time_int']])\n",
    "stops_to_map(parent_stops)\n",
    "\n",
    "for _, stop in parent_stops.iterrows():\n",
    "    wk_time = min(walking_time, (1830 - stop['arrival_time_int']) * 60)\n",
    "    if not wk_time:\n",
    "        continue\n",
    "    walking_distance = stop['geometry'].buffer(walking_speed * wk_time)\n",
    "    geometry_to_map(walking_distance, from_proj=calc_proj, name=stop['stop_name'])\n"
   ]
  },
  {
   "cell_type": "code",
   "execution_count": 17,
   "metadata": {},
   "outputs": [
    {
     "data": {
      "text/plain": [
       "parent_station\n",
       "Parent1        4\n",
       "Parent10       2\n",
       "Parent101      2\n",
       "Parent102      2\n",
       "Parent103      2\n",
       "Parent104      2\n",
       "Parent105      4\n",
       "Parent106      3\n",
       "Parent107      3\n",
       "Parent11       4\n",
       "Parent1101     4\n",
       "Parent1103     2\n",
       "Parent1104     3\n",
       "Parent1105     3\n",
       "Parent1106     3\n",
       "Parent1110     4\n",
       "Parent1111     4\n",
       "Parent1114     2\n",
       "Parent1115     2\n",
       "Parent1120     2\n",
       "Parent1122     2\n",
       "Parent1123     2\n",
       "Parent1124     2\n",
       "Parent1131     2\n",
       "Parent1132     3\n",
       "Parent1133     2\n",
       "Parent1140     1\n",
       "Parent1151     2\n",
       "Parent1152     2\n",
       "Parent1153     2\n",
       "              ..\n",
       "Parent8902     2\n",
       "Parent9        2\n",
       "Parent90       4\n",
       "Parent90003    1\n",
       "Parent9001     2\n",
       "Parent9002     2\n",
       "Parent9006     2\n",
       "Parent91       4\n",
       "Parent9108     2\n",
       "Parent9109     2\n",
       "Parent9110     2\n",
       "Parent9112     2\n",
       "Parent9116     2\n",
       "Parent9119     2\n",
       "Parent9209     2\n",
       "Parent9210     2\n",
       "Parent9211     2\n",
       "Parent9212     2\n",
       "Parent9312     2\n",
       "Parent9402     2\n",
       "Parent9405     2\n",
       "Parent9410     2\n",
       "Parent9412     2\n",
       "Parent98       4\n",
       "Parent99       4\n",
       "Parent991      1\n",
       "Parent99103    2\n",
       "Parent99104    2\n",
       "Parent99911    2\n",
       "Parent99913    2\n",
       "Length: 1366, dtype: int64"
      ]
     },
     "execution_count": 17,
     "metadata": {},
     "output_type": "execute_result"
    }
   ],
   "source": [
    "gtfs['stops'].groupby('parent_station').size()\n",
    "\n",
    "# Get all parent stop children\n",
    "# recursive"
   ]
  }
 ],
 "metadata": {
  "kernelspec": {
   "display_name": "Geonotebook (Python 3)",
   "language": "python",
   "name": "geonotebook3"
  },
  "language_info": {
   "codemirror_mode": {
    "name": "ipython",
    "version": 3
   },
   "file_extension": ".py",
   "mimetype": "text/x-python",
   "name": "python",
   "nbconvert_exporter": "python",
   "pygments_lexer": "ipython3",
   "version": "3.6.2"
  }
 },
 "nbformat": 4,
 "nbformat_minor": 2
}
